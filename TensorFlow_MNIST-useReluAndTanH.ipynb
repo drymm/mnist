{
 "cells": [
  {
   "cell_type": "markdown",
   "metadata": {},
   "source": [
    "### Import Packages"
   ]
  },
  {
   "cell_type": "code",
   "execution_count": 1,
   "metadata": {},
   "outputs": [
    {
     "name": "stderr",
     "output_type": "stream",
     "text": [
      "/anaconda3/lib/python3.6/site-packages/h5py/__init__.py:36: FutureWarning: Conversion of the second argument of issubdtype from `float` to `np.floating` is deprecated. In future, it will be treated as `np.float64 == np.dtype(float).type`.\n",
      "  from ._conv import register_converters as _register_converters\n"
     ]
    },
    {
     "name": "stdout",
     "output_type": "stream",
     "text": [
      "WARNING:tensorflow:From /anaconda3/lib/python3.6/site-packages/tensorflow/contrib/learn/python/learn/datasets/base.py:198: retry (from tensorflow.contrib.learn.python.learn.datasets.base) is deprecated and will be removed in a future version.\n",
      "Instructions for updating:\n",
      "Use the retry module or similar alternatives.\n",
      "WARNING:tensorflow:From <ipython-input-1-477efa7da46c>:7: read_data_sets (from tensorflow.contrib.learn.python.learn.datasets.mnist) is deprecated and will be removed in a future version.\n",
      "Instructions for updating:\n",
      "Please use alternatives such as official/mnist/dataset.py from tensorflow/models.\n",
      "WARNING:tensorflow:From /anaconda3/lib/python3.6/site-packages/tensorflow/contrib/learn/python/learn/datasets/mnist.py:260: maybe_download (from tensorflow.contrib.learn.python.learn.datasets.base) is deprecated and will be removed in a future version.\n",
      "Instructions for updating:\n",
      "Please write your own downloading logic.\n",
      "WARNING:tensorflow:From /anaconda3/lib/python3.6/site-packages/tensorflow/contrib/learn/python/learn/datasets/mnist.py:262: extract_images (from tensorflow.contrib.learn.python.learn.datasets.mnist) is deprecated and will be removed in a future version.\n",
      "Instructions for updating:\n",
      "Please use tf.data to implement this functionality.\n",
      "Extracting MNIST_data/train-images-idx3-ubyte.gz\n",
      "WARNING:tensorflow:From /anaconda3/lib/python3.6/site-packages/tensorflow/contrib/learn/python/learn/datasets/mnist.py:267: extract_labels (from tensorflow.contrib.learn.python.learn.datasets.mnist) is deprecated and will be removed in a future version.\n",
      "Instructions for updating:\n",
      "Please use tf.data to implement this functionality.\n",
      "Extracting MNIST_data/train-labels-idx1-ubyte.gz\n",
      "WARNING:tensorflow:From /anaconda3/lib/python3.6/site-packages/tensorflow/contrib/learn/python/learn/datasets/mnist.py:110: dense_to_one_hot (from tensorflow.contrib.learn.python.learn.datasets.mnist) is deprecated and will be removed in a future version.\n",
      "Instructions for updating:\n",
      "Please use tf.one_hot on tensors.\n",
      "Extracting MNIST_data/t10k-images-idx3-ubyte.gz\n",
      "Extracting MNIST_data/t10k-labels-idx1-ubyte.gz\n",
      "WARNING:tensorflow:From /anaconda3/lib/python3.6/site-packages/tensorflow/contrib/learn/python/learn/datasets/mnist.py:290: DataSet.__init__ (from tensorflow.contrib.learn.python.learn.datasets.mnist) is deprecated and will be removed in a future version.\n",
      "Instructions for updating:\n",
      "Please use alternatives such as official/mnist/dataset.py from tensorflow/models.\n"
     ]
    }
   ],
   "source": [
    "from datetime import datetime as dt\n",
    "import numpy as np\n",
    "import tensorflow as tf\n",
    "\n",
    "from tensorflow.examples.tutorials.mnist import input_data\n",
    "\n",
    "mnist = input_data.read_data_sets(\"MNIST_data/\", one_hot=True)"
   ]
  },
  {
   "cell_type": "markdown",
   "metadata": {},
   "source": [
    "### Outline the Model"
   ]
  },
  {
   "cell_type": "code",
   "execution_count": 4,
   "metadata": {},
   "outputs": [
    {
     "name": "stdout",
     "output_type": "stream",
     "text": [
      "Epoch 1. Training loss: 0.686. Validation loss: 0.303. Validation accuracy: 91.94%\n",
      "Epoch 2. Training loss: 0.270. Validation loss: 0.217. Validation accuracy: 93.84%\n",
      "Epoch 3. Training loss: 0.208. Validation loss: 0.177. Validation accuracy: 94.94%\n",
      "Epoch 4. Training loss: 0.171. Validation loss: 0.149. Validation accuracy: 95.90%\n",
      "Epoch 5. Training loss: 0.145. Validation loss: 0.133. Validation accuracy: 96.20%\n",
      "Epoch 6. Training loss: 0.125. Validation loss: 0.118. Validation accuracy: 96.70%\n",
      "Epoch 7. Training loss: 0.109. Validation loss: 0.109. Validation accuracy: 96.82%\n",
      "Epoch 8. Training loss: 0.096. Validation loss: 0.100. Validation accuracy: 97.00%\n",
      "Epoch 9. Training loss: 0.085. Validation loss: 0.093. Validation accuracy: 97.22%\n",
      "Epoch 10. Training loss: 0.076. Validation loss: 0.088. Validation accuracy: 97.44%\n",
      "Epoch 11. Training loss: 0.067. Validation loss: 0.083. Validation accuracy: 97.62%\n",
      "Epoch 12. Training loss: 0.060. Validation loss: 0.077. Validation accuracy: 97.64%\n",
      "Epoch 13. Training loss: 0.054. Validation loss: 0.074. Validation accuracy: 97.80%\n",
      "Epoch 14. Training loss: 0.049. Validation loss: 0.074. Validation accuracy: 97.72%\n",
      "Epoch 15. Training loss: 0.044. Validation loss: 0.072. Validation accuracy: 97.72%\n",
      "Epoch 16. Training loss: 0.039. Validation loss: 0.072. Validation accuracy: 97.76%\n",
      "Epoch 17. Training loss: 0.035. Validation loss: 0.067. Validation accuracy: 97.96%\n",
      "Epoch 18. Training loss: 0.032. Validation loss: 0.066. Validation accuracy: 98.08%\n",
      "Epoch 19. Training loss: 0.028. Validation loss: 0.067. Validation accuracy: 98.02%\n",
      "End of training! Training time(s): 23.18\n"
     ]
    }
   ],
   "source": [
    "input_size = 784\n",
    "output_size = 10\n",
    "hidden_layer_size = 200\n",
    "\n",
    "# Clear from memory the variables from previous runs. Variables = weights and biases\n",
    "tf.reset_default_graph()\n",
    "\n",
    "# placeholders for inputs and targets - what type and shape are they\n",
    "inputs = tf.placeholder(tf.float32, [None, input_size])\n",
    "targets = tf.placeholder(tf.float32, [None, output_size])\n",
    "\n",
    "# Shape of the weights matrix is: w = k * m, where k = number of input nodes, and m = number of hidden units\n",
    "# Shape of the biases matrix is: b = 1 * m\n",
    "weights_1 = tf.get_variable(\"weights_1\",[input_size, hidden_layer_size])\n",
    "biases_1 = tf.get_variable(\"biases_1\", [hidden_layer_size])\n",
    "\n",
    "# tf.nn is a module that contains neural network functions including activitation functions\n",
    "# this line applies an activitation function to the linear combination of the inputs, weights and biases\n",
    "outputs_1 = tf.nn.relu(tf.matmul(inputs, weights_1) + biases_1)\n",
    "\n",
    "# Define the second hidden layer\n",
    "weights_2 = tf.get_variable(\"weights_2\", [hidden_layer_size,hidden_layer_size])\n",
    "biases_2 = tf.get_variable(\"biases_2\", [hidden_layer_size])\n",
    "\n",
    "outputs_2 = tf.nn.tanh(tf.matmul(outputs_1,weights_2) + biases_2)\n",
    "\n",
    "#Define the output layer\n",
    "weights_3 = tf.get_variable(\"weights_3\", [hidden_layer_size,output_size])\n",
    "biases_3 = tf.get_variable(\"biases_3\", [output_size])\n",
    "\n",
    "outputs = tf.matmul(outputs_2, weights_3) + biases_3\n",
    "\n",
    "#logits are the unscaled probabilities. Softmax will create scaled probabilities - a vector summing to 1.\n",
    "loss = tf.nn.softmax_cross_entropy_with_logits(logits = outputs, labels = targets)\n",
    "\n",
    "#Mean loss gives a big performance boost\n",
    "#reduce mean takes the mean of elements across a tensor\n",
    "mean_loss = tf.reduce_mean(loss)\n",
    "\n",
    "optimize = tf.train.AdamOptimizer(learning_rate = 0.0001).minimize(mean_loss)\n",
    "\n",
    "out_equals_target = tf.equal(tf.argmax(outputs,1), tf.argmax(targets,1))\n",
    "\n",
    "accuracy = tf.reduce_mean(tf.cast(out_equals_target, tf.float32))\n",
    "\n",
    "sess = tf.InteractiveSession()\n",
    "\n",
    "initializer = tf.global_variables_initializer()\n",
    "\n",
    "sess.run(initializer)\n",
    "\n",
    "#SGD batch size is 1. GD is # of samples. We want somewhere in between to get balance between speed and accuracy\n",
    "batch_size = 100\n",
    "\n",
    "batches_number = mnist.train._num_examples // batch_size\n",
    "\n",
    "max_epochs = 40\n",
    "\n",
    "prev_validation_loss = 9999999.\n",
    "\n",
    "train_start_time = dt.now()\n",
    "\n",
    "for epoch_counter in range(max_epochs):\n",
    "    \n",
    "    curr_epoch_loss = 0.\n",
    "    \n",
    "    for batch_counter in range(batches_number):\n",
    "        \n",
    "        input_batch, target_batch = mnist.train.next_batch(batch_size)\n",
    "        \n",
    "        _, batch_loss = sess.run([optimize, mean_loss],\n",
    "                                feed_dict={inputs: input_batch, targets: target_batch})\n",
    "\n",
    "        curr_epoch_loss += batch_loss\n",
    "\n",
    "    #outer loop! get mean loss\n",
    "    curr_epoch_loss /= batches_number\n",
    "\n",
    "    #Get the validation data\n",
    "    input_batch, target_batch = mnist.validation.next_batch(mnist.validation._num_examples)\n",
    "    \n",
    "    #Calculate the validation loss and accuracy for the epoch by doing forward propagation\n",
    "    validation_loss, validation_accuracy = sess.run([mean_loss, accuracy],\n",
    "                                                   feed_dict={inputs: input_batch, targets: target_batch})\n",
    "    \n",
    "    print('Epoch '+str(epoch_counter+1)+\n",
    "        '. Training loss: '+'{0:.3f}'.format(curr_epoch_loss)+\n",
    "        '. Validation loss: '+'{0:.3f}'.format(validation_loss)+\n",
    "        '. Validation accuracy: '+'{0:.2f}'.format(validation_accuracy * 100.)+'%'       \n",
    "         )\n",
    "    \n",
    "    #Early stopping - if validation loss starts to increase - to prevent overfitting\n",
    "    \n",
    "    if validation_loss > prev_validation_loss:\n",
    "        break\n",
    "        \n",
    "    prev_validation_loss = validation_loss\n",
    "\n",
    "train_end_time = dt.now()\n",
    "train_delta = train_end_time - train_start_time\n",
    "\n",
    "print('End of training! Training time(s): '+'{0:.2f}'.format(train_delta.total_seconds()))\n"
   ]
  },
  {
   "cell_type": "markdown",
   "metadata": {},
   "source": [
    "### Test"
   ]
  },
  {
   "cell_type": "code",
   "execution_count": 5,
   "metadata": {},
   "outputs": [
    {
     "name": "stdout",
     "output_type": "stream",
     "text": [
      "Test accuracy is: 97.76%\n"
     ]
    }
   ],
   "source": [
    "input_batch, target_batch = mnist.test.next_batch(mnist.test._num_examples)\n",
    "\n",
    "test_accuracy = sess.run([accuracy],\n",
    "                        feed_dict={inputs: input_batch, targets: target_batch })\n",
    "\n",
    "test_accuracy_percent = test_accuracy[0] * 100\n",
    "\n",
    "print('Test accuracy is: '+'{0:.2f}'.format(test_accuracy_percent)+'%')"
   ]
  }
 ],
 "metadata": {
  "kernelspec": {
   "display_name": "Python 3",
   "language": "python",
   "name": "python3"
  },
  "language_info": {
   "codemirror_mode": {
    "name": "ipython",
    "version": 3
   },
   "file_extension": ".py",
   "mimetype": "text/x-python",
   "name": "python",
   "nbconvert_exporter": "python",
   "pygments_lexer": "ipython3",
   "version": "3.6.4"
  }
 },
 "nbformat": 4,
 "nbformat_minor": 2
}
