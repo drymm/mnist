{
 "cells": [
  {
   "cell_type": "markdown",
   "metadata": {},
   "source": [
    "### Import Packages"
   ]
  },
  {
   "cell_type": "code",
   "execution_count": 1,
   "metadata": {},
   "outputs": [
    {
     "name": "stderr",
     "output_type": "stream",
     "text": [
      "/usr/local/anaconda/lib/python3.6/site-packages/h5py/__init__.py:34: FutureWarning: Conversion of the second argument of issubdtype from `float` to `np.floating` is deprecated. In future, it will be treated as `np.float64 == np.dtype(float).type`.\n",
      "  from ._conv import register_converters as _register_converters\n"
     ]
    },
    {
     "name": "stdout",
     "output_type": "stream",
     "text": [
      "WARNING:tensorflow:From <ipython-input-1-0a94d3ac111f>:8: read_data_sets (from tensorflow.contrib.learn.python.learn.datasets.mnist) is deprecated and will be removed in a future version.\n",
      "Instructions for updating:\n",
      "Please use alternatives such as official/mnist/dataset.py from tensorflow/models.\n",
      "WARNING:tensorflow:From /usr/local/anaconda/lib/python3.6/site-packages/tensorflow/contrib/learn/python/learn/datasets/mnist.py:260: maybe_download (from tensorflow.contrib.learn.python.learn.datasets.base) is deprecated and will be removed in a future version.\n",
      "Instructions for updating:\n",
      "Please write your own downloading logic.\n",
      "WARNING:tensorflow:From /usr/local/anaconda/lib/python3.6/site-packages/tensorflow/contrib/learn/python/learn/datasets/mnist.py:262: extract_images (from tensorflow.contrib.learn.python.learn.datasets.mnist) is deprecated and will be removed in a future version.\n",
      "Instructions for updating:\n",
      "Please use tf.data to implement this functionality.\n",
      "Extracting MNIST_data/train-images-idx3-ubyte.gz\n",
      "WARNING:tensorflow:From /usr/local/anaconda/lib/python3.6/site-packages/tensorflow/contrib/learn/python/learn/datasets/mnist.py:267: extract_labels (from tensorflow.contrib.learn.python.learn.datasets.mnist) is deprecated and will be removed in a future version.\n",
      "Instructions for updating:\n",
      "Please use tf.data to implement this functionality.\n",
      "Extracting MNIST_data/train-labels-idx1-ubyte.gz\n",
      "WARNING:tensorflow:From /usr/local/anaconda/lib/python3.6/site-packages/tensorflow/contrib/learn/python/learn/datasets/mnist.py:110: dense_to_one_hot (from tensorflow.contrib.learn.python.learn.datasets.mnist) is deprecated and will be removed in a future version.\n",
      "Instructions for updating:\n",
      "Please use tf.one_hot on tensors.\n",
      "Extracting MNIST_data/t10k-images-idx3-ubyte.gz\n",
      "Extracting MNIST_data/t10k-labels-idx1-ubyte.gz\n",
      "WARNING:tensorflow:From /usr/local/anaconda/lib/python3.6/site-packages/tensorflow/contrib/learn/python/learn/datasets/mnist.py:290: DataSet.__init__ (from tensorflow.contrib.learn.python.learn.datasets.mnist) is deprecated and will be removed in a future version.\n",
      "Instructions for updating:\n",
      "Please use alternatives such as official/mnist/dataset.py from tensorflow/models.\n"
     ]
    }
   ],
   "source": [
    "from datetime import datetime as dt\n",
    "import numpy as np\n",
    "import tensorflow as tf\n",
    "import json\n",
    "\n",
    "from tensorflow.examples.tutorials.mnist import input_data\n",
    "\n",
    "mnist = input_data.read_data_sets(\"MNIST_data/\", one_hot=True)"
   ]
  },
  {
   "cell_type": "markdown",
   "metadata": {},
   "source": [
    "### Outline the Model"
   ]
  },
  {
   "cell_type": "code",
   "execution_count": 2,
   "metadata": {},
   "outputs": [
    {
     "name": "stdout",
     "output_type": "stream",
     "text": [
      "WARNING:tensorflow:From <ipython-input-2-478ee65a49c3>:34: softmax_cross_entropy_with_logits (from tensorflow.python.ops.nn_ops) is deprecated and will be removed in a future version.\n",
      "Instructions for updating:\n",
      "\n",
      "Future major versions of TensorFlow will allow gradients to flow\n",
      "into the labels input on backprop by default.\n",
      "\n",
      "See @{tf.nn.softmax_cross_entropy_with_logits_v2}.\n",
      "\n",
      "Epoch 1. Training loss: 0.975. Validation loss: 0.400. Validation accuracy: 90.12%\n",
      "Epoch 2. Training loss: 0.353. Validation loss: 0.285. Validation accuracy: 92.48%\n",
      "Epoch 3. Training loss: 0.281. Validation loss: 0.241. Validation accuracy: 93.14%\n",
      "Epoch 4. Training loss: 0.244. Validation loss: 0.215. Validation accuracy: 94.08%\n",
      "Epoch 5. Training loss: 0.218. Validation loss: 0.195. Validation accuracy: 94.46%\n",
      "Epoch 6. Training loss: 0.197. Validation loss: 0.181. Validation accuracy: 94.82%\n",
      "Epoch 7. Training loss: 0.180. Validation loss: 0.166. Validation accuracy: 95.20%\n",
      "Epoch 8. Training loss: 0.166. Validation loss: 0.156. Validation accuracy: 95.52%\n",
      "Epoch 9. Training loss: 0.153. Validation loss: 0.146. Validation accuracy: 95.84%\n",
      "Epoch 10. Training loss: 0.143. Validation loss: 0.139. Validation accuracy: 96.06%\n",
      "End of training! Training time(s): 14.41\n"
     ]
    }
   ],
   "source": [
    "input_size = 784\n",
    "output_size = 10\n",
    "hidden_layer_size = 95\n",
    "\n",
    "# Clear from memory the variables from previous runs. Variables = weights and biases\n",
    "tf.reset_default_graph()\n",
    "\n",
    "# placeholders for inputs and targets - what type and shape are they\n",
    "inputs = tf.placeholder(tf.float32, [None, input_size])\n",
    "targets = tf.placeholder(tf.float32, [None, output_size])\n",
    "\n",
    "# Shape of the weights matrix is: w = k * m, where k = number of input nodes, and m = number of hidden units\n",
    "# Shape of the biases matrix is: b = 1 * m\n",
    "weights_1 = tf.get_variable(\"weights_1\",[input_size, hidden_layer_size])\n",
    "biases_1 = tf.get_variable(\"biases_1\", [hidden_layer_size])\n",
    "\n",
    "# tf.nn is a module that contains neural network functions including activitation functions\n",
    "# this line applies an activitation function to the linear combination of the inputs, weights and biases\n",
    "outputs_1 = tf.nn.relu(tf.matmul(inputs, weights_1) + biases_1)\n",
    "\n",
    "# Define the second hidden layer\n",
    "weights_2 = tf.get_variable(\"weights_2\", [hidden_layer_size,hidden_layer_size])\n",
    "biases_2 = tf.get_variable(\"biases_2\", [hidden_layer_size])\n",
    "\n",
    "outputs_2 = tf.nn.relu(tf.matmul(outputs_1,weights_2) + biases_2)\n",
    "\n",
    "#Define the output layer\n",
    "weights_3 = tf.get_variable(\"weights_3\", [hidden_layer_size,output_size])\n",
    "biases_3 = tf.get_variable(\"biases_3\", [output_size])\n",
    "\n",
    "outputs = tf.matmul(outputs_2, weights_3) + biases_3\n",
    "\n",
    "#logits are the unscaled probabilities. Softmax will create scaled probabilities - a vector summing to 1.\n",
    "loss = tf.nn.softmax_cross_entropy_with_logits(logits = outputs, labels = targets)\n",
    "\n",
    "#Mean loss gives a big performance boost\n",
    "#reduce mean takes the mean of elements across a tensor\n",
    "mean_loss = tf.reduce_mean(loss)\n",
    "\n",
    "optimize = tf.train.AdamOptimizer(learning_rate = 0.0001).minimize(mean_loss)\n",
    "\n",
    "out_equals_target = tf.equal(tf.argmax(outputs,1), tf.argmax(targets,1))\n",
    "\n",
    "accuracy = tf.reduce_mean(tf.cast(out_equals_target, tf.float32))\n",
    "\n",
    "sess = tf.InteractiveSession()\n",
    "\n",
    "initializer = tf.global_variables_initializer()\n",
    "\n",
    "sess.run(initializer)\n",
    "\n",
    "#SGD batch size is 1. GD is # of samples. We want somewhere in between to get balance between speed and accuracy\n",
    "batch_size = 100\n",
    "\n",
    "batches_number = mnist.train._num_examples // batch_size\n",
    "\n",
    "max_epochs = 10\n",
    "\n",
    "prev_validation_loss = 9999999.\n",
    "\n",
    "train_start_time = dt.now()\n",
    "\n",
    "for epoch_counter in range(max_epochs):\n",
    "    \n",
    "    curr_epoch_loss = 0.\n",
    "    \n",
    "    for batch_counter in range(batches_number):\n",
    "        \n",
    "        input_batch, target_batch = mnist.train.next_batch(batch_size)\n",
    "        \n",
    "        _, batch_loss = sess.run([optimize, mean_loss],\n",
    "                                feed_dict={inputs: input_batch, targets: target_batch})\n",
    "\n",
    "        curr_epoch_loss += batch_loss\n",
    "\n",
    "    #outer loop! get mean loss\n",
    "    curr_epoch_loss /= batches_number\n",
    "\n",
    "    #Get the validation data\n",
    "    input_batch, target_batch = mnist.validation.next_batch(mnist.validation._num_examples)\n",
    "    \n",
    "    #Calculate the validation loss and accuracy for the epoch by doing forward propagation\n",
    "    validation_loss, validation_accuracy = sess.run([mean_loss, accuracy],\n",
    "                                                   feed_dict={inputs: input_batch, targets: target_batch})\n",
    "    \n",
    "    print('Epoch '+str(epoch_counter+1)+\n",
    "        '. Training loss: '+'{0:.3f}'.format(curr_epoch_loss)+\n",
    "        '. Validation loss: '+'{0:.3f}'.format(validation_loss)+\n",
    "        '. Validation accuracy: '+'{0:.2f}'.format(validation_accuracy * 100.)+'%'       \n",
    "         )\n",
    "    \n",
    "    #Early stopping - if validation loss starts to increase - to prevent overfitting\n",
    "    \n",
    "    if validation_loss > prev_validation_loss:\n",
    "        break\n",
    "        \n",
    "    prev_validation_loss = validation_loss\n",
    "\n",
    "train_end_time = dt.now()\n",
    "train_delta = train_end_time - train_start_time\n",
    "\n",
    "print('End of training! Training time(s): '+'{0:.2f}'.format(train_delta.total_seconds()))\n"
   ]
  },
  {
   "cell_type": "markdown",
   "metadata": {},
   "source": [
    "### Test"
   ]
  },
  {
   "cell_type": "code",
   "execution_count": 3,
   "metadata": {},
   "outputs": [
    {
     "name": "stdout",
     "output_type": "stream",
     "text": [
      "Test accuracy is: 95.64%\n"
     ]
    }
   ],
   "source": [
    "input_batch, target_batch = mnist.test.next_batch(mnist.test._num_examples)\n",
    "\n",
    "test_accuracy = sess.run([accuracy],\n",
    "                        feed_dict={inputs: input_batch, targets: target_batch })\n",
    "\n",
    "test_accuracy_percent = test_accuracy[0] * 100\n",
    "\n",
    "print('Test accuracy is: '+'{0:.2f}'.format(test_accuracy_percent)+'%')"
   ]
  },
  {
   "cell_type": "code",
   "execution_count": 4,
   "metadata": {
    "collapsed": true
   },
   "outputs": [],
   "source": [
    "with open('dominostats.json', 'w') as f:\n",
    "    f.write(json.dumps({\"test accuracy\":test_accuracy_percent}))"
   ]
  },
  {
   "cell_type": "code",
   "execution_count": null,
   "metadata": {
    "collapsed": true
   },
   "outputs": [],
   "source": []
  }
 ],
 "metadata": {
  "kernelspec": {
   "display_name": "Python 3",
   "language": "python",
   "name": "python3"
  },
  "language_info": {
   "codemirror_mode": {
    "name": "ipython",
    "version": 3
   },
   "file_extension": ".py",
   "mimetype": "text/x-python",
   "name": "python",
   "nbconvert_exporter": "python",
   "pygments_lexer": "ipython3",
   "version": "3.6.2"
  }
 },
 "nbformat": 4,
 "nbformat_minor": 2
}
