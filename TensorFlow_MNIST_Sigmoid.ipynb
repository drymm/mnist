{
 "cells": [
  {
   "cell_type": "markdown",
   "metadata": {},
   "source": [
    "### Import Packages"
   ]
  },
  {
   "cell_type": "code",
   "execution_count": 1,
   "metadata": {},
   "outputs": [
    {
     "name": "stderr",
     "output_type": "stream",
     "text": [
      "/anaconda3/lib/python3.6/site-packages/h5py/__init__.py:36: FutureWarning: Conversion of the second argument of issubdtype from `float` to `np.floating` is deprecated. In future, it will be treated as `np.float64 == np.dtype(float).type`.\n",
      "  from ._conv import register_converters as _register_converters\n"
     ]
    },
    {
     "name": "stdout",
     "output_type": "stream",
     "text": [
      "WARNING:tensorflow:From /anaconda3/lib/python3.6/site-packages/tensorflow/contrib/learn/python/learn/datasets/base.py:198: retry (from tensorflow.contrib.learn.python.learn.datasets.base) is deprecated and will be removed in a future version.\n",
      "Instructions for updating:\n",
      "Use the retry module or similar alternatives.\n",
      "WARNING:tensorflow:From <ipython-input-1-477efa7da46c>:7: read_data_sets (from tensorflow.contrib.learn.python.learn.datasets.mnist) is deprecated and will be removed in a future version.\n",
      "Instructions for updating:\n",
      "Please use alternatives such as official/mnist/dataset.py from tensorflow/models.\n",
      "WARNING:tensorflow:From /anaconda3/lib/python3.6/site-packages/tensorflow/contrib/learn/python/learn/datasets/mnist.py:260: maybe_download (from tensorflow.contrib.learn.python.learn.datasets.base) is deprecated and will be removed in a future version.\n",
      "Instructions for updating:\n",
      "Please write your own downloading logic.\n",
      "WARNING:tensorflow:From /anaconda3/lib/python3.6/site-packages/tensorflow/contrib/learn/python/learn/datasets/mnist.py:262: extract_images (from tensorflow.contrib.learn.python.learn.datasets.mnist) is deprecated and will be removed in a future version.\n",
      "Instructions for updating:\n",
      "Please use tf.data to implement this functionality.\n",
      "Extracting MNIST_data/train-images-idx3-ubyte.gz\n",
      "WARNING:tensorflow:From /anaconda3/lib/python3.6/site-packages/tensorflow/contrib/learn/python/learn/datasets/mnist.py:267: extract_labels (from tensorflow.contrib.learn.python.learn.datasets.mnist) is deprecated and will be removed in a future version.\n",
      "Instructions for updating:\n",
      "Please use tf.data to implement this functionality.\n",
      "Extracting MNIST_data/train-labels-idx1-ubyte.gz\n",
      "WARNING:tensorflow:From /anaconda3/lib/python3.6/site-packages/tensorflow/contrib/learn/python/learn/datasets/mnist.py:110: dense_to_one_hot (from tensorflow.contrib.learn.python.learn.datasets.mnist) is deprecated and will be removed in a future version.\n",
      "Instructions for updating:\n",
      "Please use tf.one_hot on tensors.\n",
      "Extracting MNIST_data/t10k-images-idx3-ubyte.gz\n",
      "Extracting MNIST_data/t10k-labels-idx1-ubyte.gz\n",
      "WARNING:tensorflow:From /anaconda3/lib/python3.6/site-packages/tensorflow/contrib/learn/python/learn/datasets/mnist.py:290: DataSet.__init__ (from tensorflow.contrib.learn.python.learn.datasets.mnist) is deprecated and will be removed in a future version.\n",
      "Instructions for updating:\n",
      "Please use alternatives such as official/mnist/dataset.py from tensorflow/models.\n"
     ]
    }
   ],
   "source": [
    "from datetime import datetime as dt\n",
    "import numpy as np\n",
    "import tensorflow as tf\n",
    "\n",
    "from tensorflow.examples.tutorials.mnist import input_data\n",
    "\n",
    "mnist = input_data.read_data_sets(\"MNIST_data/\", one_hot=True)"
   ]
  },
  {
   "cell_type": "markdown",
   "metadata": {},
   "source": [
    "### Outline the Model"
   ]
  },
  {
   "cell_type": "code",
   "execution_count": 2,
   "metadata": {},
   "outputs": [
    {
     "name": "stdout",
     "output_type": "stream",
     "text": [
      "WARNING:tensorflow:From <ipython-input-2-c63ed51721ec>:52: softmax_cross_entropy_with_logits (from tensorflow.python.ops.nn_ops) is deprecated and will be removed in a future version.\n",
      "Instructions for updating:\n",
      "\n",
      "Future major versions of TensorFlow will allow gradients to flow\n",
      "into the labels input on backprop by default.\n",
      "\n",
      "See tf.nn.softmax_cross_entropy_with_logits_v2.\n",
      "\n",
      "Epoch 1. Training loss: 2.050. Validation loss: 1.314. Validation accuracy: 57.02%\n",
      "Epoch 2. Training loss: 0.946. Validation loss: 0.719. Validation accuracy: 76.40%\n",
      "Epoch 3. Training loss: 0.669. Validation loss: 0.569. Validation accuracy: 83.58%\n",
      "Epoch 4. Training loss: 0.543. Validation loss: 0.474. Validation accuracy: 86.72%\n",
      "Epoch 5. Training loss: 0.463. Validation loss: 0.421. Validation accuracy: 88.00%\n",
      "Epoch 6. Training loss: 0.413. Validation loss: 0.377. Validation accuracy: 89.34%\n",
      "Epoch 7. Training loss: 0.378. Validation loss: 0.346. Validation accuracy: 90.38%\n",
      "Epoch 8. Training loss: 0.351. Validation loss: 0.321. Validation accuracy: 91.00%\n",
      "Epoch 9. Training loss: 0.325. Validation loss: 0.301. Validation accuracy: 91.48%\n",
      "Epoch 10. Training loss: 0.304. Validation loss: 0.285. Validation accuracy: 91.88%\n",
      "Epoch 11. Training loss: 0.284. Validation loss: 0.264. Validation accuracy: 92.42%\n",
      "Epoch 12. Training loss: 0.264. Validation loss: 0.246. Validation accuracy: 92.90%\n",
      "Epoch 13. Training loss: 0.247. Validation loss: 0.232. Validation accuracy: 93.30%\n",
      "Epoch 14. Training loss: 0.230. Validation loss: 0.219. Validation accuracy: 93.58%\n",
      "Epoch 15. Training loss: 0.214. Validation loss: 0.206. Validation accuracy: 94.02%\n",
      "Epoch 16. Training loss: 0.201. Validation loss: 0.198. Validation accuracy: 94.40%\n",
      "Epoch 17. Training loss: 0.189. Validation loss: 0.184. Validation accuracy: 94.80%\n",
      "Epoch 18. Training loss: 0.178. Validation loss: 0.179. Validation accuracy: 95.14%\n",
      "Epoch 19. Training loss: 0.167. Validation loss: 0.165. Validation accuracy: 95.50%\n",
      "Epoch 20. Training loss: 0.158. Validation loss: 0.163. Validation accuracy: 95.40%\n",
      "Epoch 21. Training loss: 0.151. Validation loss: 0.155. Validation accuracy: 95.84%\n",
      "Epoch 22. Training loss: 0.145. Validation loss: 0.148. Validation accuracy: 96.16%\n",
      "Epoch 23. Training loss: 0.137. Validation loss: 0.148. Validation accuracy: 96.18%\n",
      "End of training! Training time(s): 66.97\n"
     ]
    }
   ],
   "source": [
    "input_size = 784\n",
    "output_size = 10\n",
    "hidden_layer_size = 300\n",
    "\n",
    "# Clear from memory the variables from previous runs. Variables = weights and biases\n",
    "tf.reset_default_graph()\n",
    "\n",
    "# placeholders for inputs and targets - what type and shape are they\n",
    "inputs = tf.placeholder(tf.float32, [None, input_size])\n",
    "targets = tf.placeholder(tf.float32, [None, output_size])\n",
    "\n",
    "# Shape of the weights matrix is: w = k * m, where k = number of input nodes, and m = number of hidden units\n",
    "# Shape of the biases matrix is: b = 1 * m\n",
    "weights_1 = tf.get_variable(\"weights_1\",[input_size, hidden_layer_size])\n",
    "biases_1 = tf.get_variable(\"biases_1\", [hidden_layer_size])\n",
    "\n",
    "# tf.nn is a module that contains neural network functions including activitation functions\n",
    "# this line applies an activitation function to the linear combination of the inputs, weights and biases\n",
    "outputs_1 = tf.nn.sigmoid(tf.matmul(inputs, weights_1) + biases_1)\n",
    "\n",
    "# Define the second hidden layer\n",
    "weights_2 = tf.get_variable(\"weights_2\", [hidden_layer_size,hidden_layer_size])\n",
    "biases_2 = tf.get_variable(\"biases_2\", [hidden_layer_size])\n",
    "\n",
    "outputs_2 = tf.nn.sigmoid(tf.matmul(outputs_1,weights_2) + biases_2)\n",
    "\n",
    "# Define the third hidden layer\n",
    "weights_3 = tf.get_variable(\"weights_3\", [hidden_layer_size,hidden_layer_size])\n",
    "biases_3 = tf.get_variable(\"biases_3\", [hidden_layer_size])\n",
    "\n",
    "outputs_3 = tf.nn.sigmoid(tf.matmul(outputs_2, weights_3) + biases_3)\n",
    "\n",
    "# Define the fourth hidden layer\n",
    "weights_4 = tf.get_variable(\"weights_4\", [hidden_layer_size,hidden_layer_size])\n",
    "biases_4 = tf.get_variable(\"biases_4\", [hidden_layer_size])\n",
    "\n",
    "outputs_4 = tf.nn.sigmoid(tf.matmul(outputs_3, weights_4) + biases_4)\n",
    "\n",
    "# Define the fifth hidden layer\n",
    "weights_5 = tf.get_variable(\"weights_5\", [hidden_layer_size,hidden_layer_size])\n",
    "biases_5 = tf.get_variable(\"biases_5\", [hidden_layer_size])\n",
    "\n",
    "outputs_5 = tf.nn.sigmoid(tf.matmul(outputs_4, weights_5) + biases_5)\n",
    "\n",
    "#Define the output layer\n",
    "weights_6 = tf.get_variable(\"weights_6\", [hidden_layer_size,output_size])\n",
    "biases_6 = tf.get_variable(\"biases_6\", [output_size])\n",
    "\n",
    "outputs = tf.matmul(outputs_5, weights_6) + biases_6\n",
    "\n",
    "#logits are the unscaled probabilities. Softmax will create scaled probabilities - a vector summing to 1.\n",
    "loss = tf.nn.softmax_cross_entropy_with_logits(logits = outputs, labels = targets)\n",
    "\n",
    "#Mean loss gives a big performance boost\n",
    "#reduce mean takes the mean of elements across a tensor\n",
    "mean_loss = tf.reduce_mean(loss)\n",
    "\n",
    "optimize = tf.train.AdamOptimizer(learning_rate = 0.0001).minimize(mean_loss)\n",
    "\n",
    "out_equals_target = tf.equal(tf.argmax(outputs,1), tf.argmax(targets,1))\n",
    "\n",
    "accuracy = tf.reduce_mean(tf.cast(out_equals_target, tf.float32))\n",
    "\n",
    "sess = tf.InteractiveSession()\n",
    "\n",
    "initializer = tf.global_variables_initializer()\n",
    "\n",
    "sess.run(initializer)\n",
    "\n",
    "#SGD batch size is 1. GD is # of samples. We want somewhere in between to get balance between speed and accuracy\n",
    "batch_size = 100\n",
    "\n",
    "batches_number = mnist.train._num_examples // batch_size\n",
    "\n",
    "max_epochs = 40\n",
    "\n",
    "prev_validation_loss = 9999999.\n",
    "\n",
    "train_start_time = dt.now()\n",
    "\n",
    "for epoch_counter in range(max_epochs):\n",
    "    \n",
    "    curr_epoch_loss = 0.\n",
    "    \n",
    "    for batch_counter in range(batches_number):\n",
    "        \n",
    "        input_batch, target_batch = mnist.train.next_batch(batch_size)\n",
    "        \n",
    "        _, batch_loss = sess.run([optimize, mean_loss],\n",
    "                                feed_dict={inputs: input_batch, targets: target_batch})\n",
    "\n",
    "        curr_epoch_loss += batch_loss\n",
    "\n",
    "    #outer loop! get mean loss\n",
    "    curr_epoch_loss /= batches_number\n",
    "\n",
    "    #Get the validation data\n",
    "    input_batch, target_batch = mnist.validation.next_batch(mnist.validation._num_examples)\n",
    "    \n",
    "    #Calculate the validation loss and accuracy for the epoch by doing forward propagation\n",
    "    validation_loss, validation_accuracy = sess.run([mean_loss, accuracy],\n",
    "                                                   feed_dict={inputs: input_batch, targets: target_batch})\n",
    "    \n",
    "    print('Epoch '+str(epoch_counter+1)+\n",
    "        '. Training loss: '+'{0:.3f}'.format(curr_epoch_loss)+\n",
    "        '. Validation loss: '+'{0:.3f}'.format(validation_loss)+\n",
    "        '. Validation accuracy: '+'{0:.2f}'.format(validation_accuracy * 100.)+'%'       \n",
    "         )\n",
    "    \n",
    "    #Early stopping - if validation loss starts to increase - to prevent overfitting\n",
    "    \n",
    "    if validation_loss > prev_validation_loss:\n",
    "        break\n",
    "        \n",
    "    prev_validation_loss = validation_loss\n",
    "\n",
    "train_end_time = dt.now()\n",
    "train_delta = train_end_time - train_start_time\n",
    "\n",
    "print('End of training! Training time(s): '+'{0:.2f}'.format(train_delta.total_seconds()))\n"
   ]
  },
  {
   "cell_type": "markdown",
   "metadata": {},
   "source": [
    "### Test"
   ]
  },
  {
   "cell_type": "code",
   "execution_count": 3,
   "metadata": {},
   "outputs": [
    {
     "name": "stdout",
     "output_type": "stream",
     "text": [
      "Test accuracy is: 95.47%\n"
     ]
    }
   ],
   "source": [
    "input_batch, target_batch = mnist.test.next_batch(mnist.test._num_examples)\n",
    "\n",
    "test_accuracy = sess.run([accuracy],\n",
    "                        feed_dict={inputs: input_batch, targets: target_batch })\n",
    "\n",
    "test_accuracy_percent = test_accuracy[0] * 100\n",
    "\n",
    "print('Test accuracy is: '+'{0:.2f}'.format(test_accuracy_percent)+'%')"
   ]
  }
 ],
 "metadata": {
  "kernelspec": {
   "display_name": "Python 3",
   "language": "python",
   "name": "python3"
  },
  "language_info": {
   "codemirror_mode": {
    "name": "ipython",
    "version": 3
   },
   "file_extension": ".py",
   "mimetype": "text/x-python",
   "name": "python",
   "nbconvert_exporter": "python",
   "pygments_lexer": "ipython3",
   "version": "3.6.4"
  }
 },
 "nbformat": 4,
 "nbformat_minor": 2
}
